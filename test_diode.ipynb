{
 "cells": [
  {
   "cell_type": "code",
   "execution_count": null,
   "metadata": {},
   "outputs": [],
   "source": [
    "######### Package Imports #########################################################################\n",
    "import os, warnings, copy, torch, ax\n",
    "import seaborn as sns\n",
    "import matplotlib.pyplot as plt\n",
    "from itertools import combinations\n",
    "from botorch.acquisition.logei import qLogNoisyExpectedImprovement\n",
    "from ax.modelbridge.transforms.standardize_y import StandardizeY\n",
    "from ax.modelbridge.transforms.unit_x import UnitX\n",
    "from ax.modelbridge.transforms.remove_fixed import RemoveFixed\n",
    "from ax.modelbridge.transforms.log import Log\n",
    "from ax.core.base_trial import TrialStatus as T\n",
    "from ax.utils.notebook.plotting import init_notebook_plotting, render\n",
    "from ax.plot.slice import plot_slice\n",
    "\n",
    "from optimpv import *\n",
    "from optimpv.axBOtorch.axBOtorchOptimizer import axBOtorchOptimizer\n",
    "from optimpv.Diodefits.DiodeAgent import DiodeAgent\n",
    "from optimpv.Diodefits.DiodeModel import *\n",
    "\n",
    "import pySIMsalabim as sim\n",
    "from pySIMsalabim.experiments.JV_steady_state import *\n",
    "from pySIMsalabim.experiments.CV import *\n",
    "\n",
    "init_notebook_plotting()\n",
    "warnings.filterwarnings('ignore') \n",
    "##############################################################################################\n",
    "# Define the parameters to be fitted\n",
    "params = []\n",
    "\n",
    "\n",
    "J0 = FitParam(name = 'J0', value = 1e-5, bounds = [1e-6,1e-3], log_scale = True, rescale = False, value_type = 'float', type='range', display_name=r'$J_0$', unit='A m$^{-2}$', axis_type = 'log')\n",
    "params.append(J0)\n",
    "\n",
    "n = FitParam(name = 'n', value = 1.5, bounds = [1,2], log_scale = False, value_type = 'float', type='range', display_name=r'$n$', unit='', axis_type = 'linear')\n",
    "params.append(n)\n",
    "\n",
    "R_series = FitParam(name = 'R_series', value = 1e-4, bounds = [1e-5,1e-3], log_scale = True, rescale = False, value_type = 'float', type='range', display_name=r'$R_{\\text{series}}$', unit=r'$\\Omega$ m$^2$', axis_type = 'log')\n",
    "params.append(R_series)\n",
    "\n",
    "R_shunt = FitParam(name = 'R_shunt', value = 1e-1, bounds = [1e-2,1e2], log_scale = True, rescale = False, value_type = 'float', type='range', display_name=r'$R_{\\text{shunt}}$', unit=r'$\\Omega$ m$^2$', axis_type = 'log')\n",
    "params.append(R_shunt)\n",
    "\n",
    "# original values\n",
    "params_orig = copy.deepcopy(params)\n"
   ]
  },
  {
   "cell_type": "markdown",
   "metadata": {},
   "source": [
    "# Dark JV"
   ]
  },
  {
   "cell_type": "code",
   "execution_count": null,
   "metadata": {},
   "outputs": [],
   "source": [
    "# Create JV to fit\n",
    "X = np.linspace(0.001,1,100)\n",
    "y = NonIdealDiode_dark(X, J0.value, n.value, R_series.value, R_shunt.value)\n",
    "\n",
    "plt.semilogy(X,y)\n"
   ]
  },
  {
   "cell_type": "code",
   "execution_count": null,
   "metadata": {},
   "outputs": [],
   "source": [
    "# Define the agents\n",
    "metric = 'mse'\n",
    "loss = 'soft_l1'\n",
    "threshold = 10\n",
    "exp_format = 'dark'\n",
    "diode = DiodeAgent(params, X, y, metric = metric, loss = loss, threshold=threshold,minimize=True,exp_format=exp_format,use_pvlib=False,compare_logs=True)"
   ]
  },
  {
   "cell_type": "code",
   "execution_count": null,
   "metadata": {},
   "outputs": [],
   "source": [
    "# Define the model kwargs\n",
    "model_kwargs_list = [{},{'torch_device': torch.device(\"cuda\" if torch.cuda.is_available() else \"cpu\"),'torch_dtype': torch.double,'botorch_acqf_class':qLogNoisyExpectedImprovement,'transforms':[RemoveFixed, Log,UnitX, StandardizeY]}]\n",
    "\n",
    "# Define the optimizer\n",
    "optimizer = axBOtorchOptimizer(params = params, agents = diode, models = ['SOBOL','BOTORCH_MODULAR'],n_batches = [1,40], batch_size = [10,2], ax_client = None,  max_parallelism = -1, model_kwargs_list = model_kwargs_list, model_gen_kwargs_list = None, name = 'ax_opti')"
   ]
  },
  {
   "cell_type": "code",
   "execution_count": null,
   "metadata": {},
   "outputs": [],
   "source": [
    "optimizer.optimize()"
   ]
  },
  {
   "cell_type": "code",
   "execution_count": null,
   "metadata": {},
   "outputs": [],
   "source": [
    "ax_client = optimizer.ax_client\n",
    "best_parameters = ax_client.get_best_parameters()[0]\n",
    "print(best_parameters)\n",
    "diode.params_w(best_parameters,diode.params)\n"
   ]
  },
  {
   "cell_type": "code",
   "execution_count": null,
   "metadata": {},
   "outputs": [],
   "source": [
    "# plot the evolution of the optimization\n",
    "render(ax_client.get_contour_plot(param_x=\"J0\", param_y=\"n\", metric_name=optimizer.all_metrics[0]))\n",
    "\n",
    "model = ax_client.generation_strategy.model\n",
    "\n",
    "render(plot_slice(model=model, param_name=\"R_series\", metric_name=optimizer.all_metrics[0]))\n"
   ]
  },
  {
   "cell_type": "code",
   "execution_count": null,
   "metadata": {},
   "outputs": [],
   "source": [
    "data = ax_client.experiment.fetch_data()\n",
    "\n",
    "plt.plot(np.minimum.accumulate(data.df[\"mean\"]), label=\"Best value seen so far\")\n",
    "\n",
    "plt.xlabel(\"Number of iterations\")\n",
    "plt.ylabel('log of ' + optimizer.all_metrics[0])\n"
   ]
  },
  {
   "cell_type": "code",
   "execution_count": null,
   "metadata": {},
   "outputs": [],
   "source": [
    "# create dic with keys same as ax_client.experiment.trials[0].arm.parameters\n",
    "dumdic = {}\n",
    "for key in ax_client.experiment.trials[0].arm.parameters.keys():\n",
    "    dumdic[key] = []\n",
    "\n",
    "# fill the dic with the values of the parameters\n",
    "for i in range(len(ax_client.experiment.trials)):\n",
    "    if ax_client.experiment.trials[i].status == T.COMPLETED:\n",
    "        for key in ax_client.experiment.trials[i].arm.parameters.keys():\n",
    "            dumdic[key].append(ax_client.experiment.trials[i].arm.parameters[key])\n",
    "\n",
    "data = ax_client.experiment.fetch_data().df\n",
    "\n",
    "dumdic[optimizer.all_metrics[0]] = data['mean']\n",
    "\n",
    "df = pd.DataFrame(dumdic)\n",
    "\n"
   ]
  },
  {
   "cell_type": "code",
   "execution_count": null,
   "metadata": {},
   "outputs": [],
   "source": [
    "# get name of all parameters that are not 'fixed'\n",
    "names = []\n",
    "log_scale = []\n",
    "axis_limits = []\n",
    "for p in params:\n",
    "    if p.type != 'fixed':\n",
    "        names.append(p.name)\n",
    "        log_scale.append(p.axis_type == 'log')\n",
    "        axis_limits.append(p.bounds)\n",
    "\n",
    "\n",
    "# Get all combinations of names\n",
    "comb = list(combinations(names, 2))\n",
    "\n",
    "# Determine the grid size\n",
    "n = len(names)\n",
    "fig, axes = plt.subplots(n, n, figsize=(15, 15))\n",
    "\n",
    "# Plot each combination in the grid\n",
    "for i, xx in enumerate(names):\n",
    "    for j, yy in enumerate(names):\n",
    "        xval = np.nan\n",
    "        yval = np.nan\n",
    "\n",
    "        for p in params_orig:\n",
    "            if p.name == xx:\n",
    "                xval = p.value\n",
    "            if p.name == yy:\n",
    "                yval = p.value\n",
    "\n",
    "        ax = axes[i, j]\n",
    "        if i == j:\n",
    "            # kde plot on the diagonal\n",
    "            sns.kdeplot(x=yy, data=df, ax=ax, fill=True, thresh=0, levels=100, cmap=\"rocket\", color=\"#03051A\", log_scale=log_scale[names.index(xx)])\n",
    "\n",
    "            ax.axvline(x=yval, color='r', linestyle='-')\n",
    "            # put point at the best value top of the axis\n",
    "           \n",
    "\n",
    "            if log_scale[names.index(yy)]:\n",
    "                ax.set_xscale('log')\n",
    "                ax.set_xlim(axis_limits[names.index(yy)])\n",
    "            else:\n",
    "                ax.set_xlim(axis_limits[names.index(yy)])\n",
    "            \n",
    "            # put x label on the top\n",
    "            # except for the last one\n",
    "            if i < n - 1:\n",
    "                ax.xaxis.set_label_position('top')\n",
    "                ax.xaxis.tick_top()\n",
    "\n",
    "        elif i > j:\n",
    "            kind = 'kde'\n",
    "            if kind == 'scatter':\n",
    "                sns.scatterplot(x=yy, y=xx, data=df, ax=ax, color=\"#03051A\")\n",
    "                ax.set_xscale('log')\n",
    "                ax.set_yscale('log')\n",
    "            else:\n",
    "                sns.kdeplot(x=yy, y=xx, data=df, ax=ax, fill=True, thresh=0, levels=100, cmap=\"rocket\", color=\"#03051A\", log_scale=(log_scale[names.index(yy)], log_scale[names.index(xx)]))\n",
    "\n",
    "            xval = np.nan\n",
    "            yval = np.nan\n",
    "            for p in params_orig:\n",
    "                if p.name == xx:\n",
    "                    xval = p.value\n",
    "                elif p.name == yy:\n",
    "                    yval = p.value\n",
    "\n",
    "            # Plot as line over the full axis\n",
    "            ax.axhline(y=xval, color='r', linestyle='-')\n",
    "            ax.axvline(x=yval, color='r', linestyle='-')\n",
    "            ax.scatter(best_parameters[yy], best_parameters[xx], c='y', marker='*', s=200, zorder=10)\n",
    "            \n",
    "            ax.set_xlim(axis_limits[names.index(yy)])\n",
    "            ax.set_ylim(axis_limits[names.index(xx)])\n",
    "        else:\n",
    "            ax.set_visible(False)\n",
    "\n",
    "        if j > 0:\n",
    "            ax.set_yticklabels([])\n",
    "            # remove the y axis label\n",
    "            ax.set_ylabel('')\n",
    "        if i < n - 1:\n",
    "            ax.set_xticklabels([])\n",
    "            # remove the x axis label\n",
    "            ax.set_xlabel('')\n",
    "\n",
    "        if i == n - 1:\n",
    "            ax.set_xlabel(yy)\n",
    "        if j == 0:\n",
    "            ax.set_ylabel(xx)\n",
    "\n",
    "plt.tight_layout()\n",
    "plt.show()"
   ]
  },
  {
   "cell_type": "code",
   "execution_count": null,
   "metadata": {},
   "outputs": [],
   "source": [
    "# rerun the simulation with the best parameters\n",
    "yfit = diode.run(parameters=ax_client.get_best_parameters()[0])\n",
    "\n",
    "plt.figure(figsize=(10,10))\n",
    "plt.plot(X,y,label='data')\n",
    "plt.plot(X,yfit,label='fit',linestyle='--')\n",
    "plt.xscale('linear')\n",
    "plt.yscale('log')\n",
    "plt.xlabel('Applied voltage [V]')\n",
    "plt.ylabel('Current density [A m$^{-2}$]')\n",
    "plt.legend()\n",
    "plt.show()"
   ]
  },
  {
   "cell_type": "markdown",
   "metadata": {},
   "source": [
    "# Light JV"
   ]
  },
  {
   "cell_type": "code",
   "execution_count": null,
   "metadata": {},
   "outputs": [],
   "source": [
    "##############################################################################################\n",
    "# Define the parameters to be fitted\n",
    "params = []\n",
    "\n",
    "J0 = FitParam(name = 'J0', value = 1e-6, bounds = [1e-7,1e-5], log_scale = True, rescale = True, value_type = 'float', type='range', display_name=r'$J_0$', unit='A m$^{-2}$', axis_type = 'log')\n",
    "params.append(J0)\n",
    "\n",
    "n = FitParam(name = 'n', value = 1.5, bounds = [1,2], log_scale = False, value_type = 'float', type='range', display_name=r'$n$', unit='', axis_type = 'linear')\n",
    "params.append(n)\n",
    "\n",
    "R_series = FitParam(name = 'R_series', value = 1e-4, bounds = [1e-5,1e-3], log_scale = True, rescale = False, value_type = 'float', type='range', display_name=r'$R_{\\text{series}}$', unit=r'$\\Omega$ m$^2$', axis_type = 'log')\n",
    "params.append(R_series)\n",
    "\n",
    "R_shunt = FitParam(name = 'R_shunt', value = 1e-1, bounds = [1e-2,1e2], log_scale = True, rescale = False, value_type = 'float', type='range', display_name=r'$R_{\\text{shunt}}$', unit=r'$\\Omega$ m$^2$', axis_type = 'log')\n",
    "params.append(R_shunt)\n",
    "\n",
    "Jph = FitParam(name = 'Jph', value = 200, bounds = [150,250], log_scale = False, rescale = False, value_type = 'float', type='range', display_name=r'$J_{\\text{ph}}$', unit='A m$^{-2}$', axis_type = 'linear')\n",
    "params.append(Jph)\n",
    "\n",
    "# original values\n",
    "params_orig = copy.deepcopy(params)"
   ]
  },
  {
   "cell_type": "code",
   "execution_count": null,
   "metadata": {},
   "outputs": [],
   "source": [
    "# Create JV to fit\n",
    "X = np.linspace(0.001,1,100)\n",
    "y = NonIdealDiode_light(X, J0.value, n.value, R_series.value, R_shunt.value, Jph.value)\n",
    "\n",
    "plt.plot(X,y)"
   ]
  },
  {
   "cell_type": "code",
   "execution_count": null,
   "metadata": {},
   "outputs": [],
   "source": [
    "# Define the agents\n",
    "metric = 'mse'\n",
    "loss = 'soft_l1'\n",
    "threshold = 10\n",
    "exp_format = 'light'\n",
    "diode = DiodeAgent(params, X, y, metric = metric, loss = loss, threshold=threshold,minimize=True,exp_format=exp_format,use_pvlib=False,compare_logs=True)"
   ]
  },
  {
   "cell_type": "code",
   "execution_count": null,
   "metadata": {},
   "outputs": [],
   "source": [
    "# Define the model kwargs\n",
    "model_kwargs_list = [{},{'torch_device': torch.device(\"cuda\" if torch.cuda.is_available() else \"cpu\"),'torch_dtype': torch.double,'botorch_acqf_class':qLogNoisyExpectedImprovement,'transforms':[RemoveFixed, Log,UnitX, StandardizeY]}]\n",
    "\n",
    "# Define the optimizer\n",
    "optimizer = axBOtorchOptimizer(params = params, agents = diode, models = ['SOBOL','BOTORCH_MODULAR'],n_batches = [1,40], batch_size = [10,2], ax_client = None,  max_parallelism = -1, model_kwargs_list = model_kwargs_list, model_gen_kwargs_list = None, name = 'ax_opti')"
   ]
  },
  {
   "cell_type": "code",
   "execution_count": null,
   "metadata": {},
   "outputs": [],
   "source": [
    "optimizer.optimize()"
   ]
  },
  {
   "cell_type": "code",
   "execution_count": null,
   "metadata": {},
   "outputs": [],
   "source": [
    "ax_client = optimizer.ax_client\n",
    "best_parameters = ax_client.get_best_parameters()[0]\n",
    "print(best_parameters)\n",
    "diode.params_w(best_parameters,diode.params)\n"
   ]
  },
  {
   "cell_type": "code",
   "execution_count": null,
   "metadata": {},
   "outputs": [],
   "source": [
    "# rerun the simulation with the best parameters\n",
    "yfit = diode.run(parameters=ax_client.get_best_parameters()[0])\n",
    "\n",
    "plt.figure(figsize=(10,10))\n",
    "plt.plot(X,y,label='data')\n",
    "plt.plot(X,yfit,label='fit',linestyle='--')\n",
    "plt.xscale('linear')\n",
    "# plt.yscale('log')\n",
    "plt.xlabel('Applied voltage [V]')\n",
    "plt.ylabel('Current density [A m$^{-2}$]')\n",
    "plt.legend()\n",
    "plt.show()"
   ]
  }
 ],
 "metadata": {
  "kernelspec": {
   "display_name": "new",
   "language": "python",
   "name": "python3"
  },
  "language_info": {
   "codemirror_mode": {
    "name": "ipython",
    "version": 3
   },
   "file_extension": ".py",
   "mimetype": "text/x-python",
   "name": "python",
   "nbconvert_exporter": "python",
   "pygments_lexer": "ipython3",
   "version": "3.13.0"
  }
 },
 "nbformat": 4,
 "nbformat_minor": 2
}
